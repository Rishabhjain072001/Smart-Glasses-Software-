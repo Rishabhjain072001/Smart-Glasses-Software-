{
 "cells": [
  {
   "cell_type": "code",
   "execution_count": 1,
   "metadata": {},
   "outputs": [
    {
     "name": "stderr",
     "output_type": "stream",
     "text": [
      "C:\\Users\\Rishabh Jain\\Anaconda3\\lib\\site-packages\\numpy\\_distributor_init.py:32: UserWarning: loaded more than 1 DLL from .libs:\n",
      "C:\\Users\\Rishabh Jain\\Anaconda3\\lib\\site-packages\\numpy\\.libs\\libopenblas.GK7GX5KEQ4F6UYO3P26ULGBQYHGQO7J4.gfortran-win_amd64.dll\n",
      "C:\\Users\\Rishabh Jain\\Anaconda3\\lib\\site-packages\\numpy\\.libs\\libopenblas.XWYDX2IKJW2NMTWSFYNGFUWKQU3LYTCZ.gfortran-win_amd64.dll\n",
      "  stacklevel=1)\n"
     ]
    }
   ],
   "source": [
    "import ObjectR as ob\n",
    "\n",
    "\n",
    "\n",
    "#def translate_lang(lang,takeCommand,T):\n",
    "def object_detection(takeCommand,T):\n",
    "    \n",
    "    def object_detection_start():\n",
    "        ob.object_Run()\n",
    "\n",
    "    def object_detection_stop():\n",
    "        ob.object_stop()\n",
    "\n",
    "    t1 = threading.Thread(target=object_detection_start)\n",
    "    t1.start()\n",
    "\n",
    "    while(True):\n",
    "\n",
    "        query3 = takeCommand(T).lower()\n",
    "\n",
    "        if 'click' in query3:   \n",
    "            queue.enque(1)\n",
    "            break\n",
    "        elif 'quit'in query3:\n",
    "            queue.enque(2)\n",
    "            break\n",
    "    t1.join()\n",
    "        \n",
    "\n"
   ]
  },
  {
   "cell_type": "code",
   "execution_count": null,
   "metadata": {},
   "outputs": [],
   "source": []
  }
 ],
 "metadata": {
  "kernelspec": {
   "display_name": "Python 3",
   "language": "python",
   "name": "python3"
  },
  "language_info": {
   "codemirror_mode": {
    "name": "ipython",
    "version": 3
   },
   "file_extension": ".py",
   "mimetype": "text/x-python",
   "name": "python",
   "nbconvert_exporter": "python",
   "pygments_lexer": "ipython3",
   "version": "3.7.3"
  }
 },
 "nbformat": 4,
 "nbformat_minor": 5
}
