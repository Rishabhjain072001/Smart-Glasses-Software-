{
 "cells": [
  {
   "cell_type": "code",
   "execution_count": null,
   "metadata": {},
   "outputs": [],
   "source": [
    "import FaceR as fc\n",
    "\n",
    "#def translate_lang(lang,takeCommand,T):\n",
    "def face_detection(takeCommand,T):\n",
    "    \n",
    "    def face_detection_start():\n",
    "        fc.face_recog_start()\n",
    "\n",
    "    def face_detection_stop():\n",
    "        fc.face_recog_stop()\n",
    "\n",
    "    t1 = threading.Thread(target=face_detection_start)\n",
    "    t1.start()\n",
    "\n",
    "    while(True):\n",
    "        \n",
    "        query3 = takeCommand(T).lower()\n",
    "\n",
    "        if 'quit'in query3:\n",
    "            face_detection_stop()\n",
    "            break\n",
    "    t1.join()\n",
    "        \n",
    "\n"
   ]
  }
 ],
 "metadata": {
  "kernelspec": {
   "display_name": "Python 3",
   "language": "python",
   "name": "python3"
  },
  "language_info": {
   "codemirror_mode": {
    "name": "ipython",
    "version": 3
   },
   "file_extension": ".py",
   "mimetype": "text/x-python",
   "name": "python",
   "nbconvert_exporter": "python",
   "pygments_lexer": "ipython3",
   "version": "3.7.3"
  }
 },
 "nbformat": 4,
 "nbformat_minor": 5
}
